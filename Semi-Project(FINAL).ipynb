{
 "cells": [
  {
   "cell_type": "markdown",
   "id": "4dae3432",
   "metadata": {},
   "source": [
    "# 흑백 이미지 컬러로 복원"
   ]
  },
  {
   "cell_type": "markdown",
   "id": "afd53ec4",
   "metadata": {},
   "source": [
    "#### 패키지 로드하기"
   ]
  },
  {
   "cell_type": "code",
   "execution_count": null,
   "id": "28866e5f",
   "metadata": {},
   "outputs": [
    {
     "ename": "",
     "evalue": "",
     "output_type": "error",
     "traceback": [
      "\u001b[1;31m'Python 3.10.5 64-bit'(으)로 셀을 실행하려면 ipykernel 패키지가 필요합니다.\n",
      "다음 명령어를 실행하여 Python 환경에 'ipykernel'을(를) 설치합니다. \r\n",
      " 명령: 'c:/Users/always/AppData/Local/Programs/Python/Python310/python.exe -m pip install ipykernel -U --user --force-reinstall'"
     ]
    }
   ],
   "source": [
    "# 패키지 로드하기\n",
    "import cv2\n",
    "import numpy as np"
   ]
  },
  {
   "cell_type": "code",
   "execution_count": null,
   "id": "563d3b24",
   "metadata": {},
   "outputs": [
    {
     "ename": "",
     "evalue": "",
     "output_type": "error",
     "traceback": [
      "\u001b[1;31m'Python 3.10.5 64-bit'(으)로 셀을 실행하려면 ipykernel 패키지가 필요합니다.\n",
      "다음 명령어를 실행하여 Python 환경에 'ipykernel'을(를) 설치합니다. \r\n",
      " 명령: 'c:/Users/always/AppData/Local/Programs/Python/Python310/python.exe -m pip install ipykernel -U --user --force-reinstall'"
     ]
    }
   ],
   "source": [
    "img = cv2.imread('./semi-project/img/1900s NewYork.jpg', cv2.IMREAD_UNCHANGED)\n",
    "dst = cv2.resize(img, dsize=(800, 600), interpolation = cv2.INTER_AREA)\n",
    "\n",
    "#cv2.imshow('img', img)\n",
    "cv2.imshow(\"dst\", dst)\n",
    "\n",
    "cv2.waitKey()\n",
    "cv2.destroyAllWindows()"
   ]
  },
  {
   "cell_type": "markdown",
   "id": "3945e04c",
   "metadata": {},
   "source": [
    "## 이미지 전처리하기"
   ]
  },
  {
   "cell_type": "code",
   "execution_count": null,
   "id": "9653a976",
   "metadata": {},
   "outputs": [
    {
     "ename": "",
     "evalue": "",
     "output_type": "error",
     "traceback": [
      "\u001b[1;31m'Python 3.10.5 64-bit'(으)로 셀을 실행하려면 ipykernel 패키지가 필요합니다.\n",
      "다음 명령어를 실행하여 Python 환경에 'ipykernel'을(를) 설치합니다. \r\n",
      " 명령: 'c:/Users/always/AppData/Local/Programs/Python/Python310/python.exe -m pip install ipykernel -U --user --force-reinstall'"
     ]
    }
   ],
   "source": [
    "proto = './semi-project/colorization_deploy_v2.prototxt'\n",
    "weights = './semi-project/colorization_release_v2.caffemodel'\n",
    "# weights = './semi-project/colorization_release_v2_norebal.caffemodel'\n",
    "\n",
    "#net 이라는 변수에 딥러닝 프레임 워크를 선언한다.\n",
    "net = cv2.dnn.readNetFromCaffe(proto, weights)\n",
    "\n",
    "# 클러스터 센터를 로드\n",
    "pts_in_hull = np.load('./semi-project/pts_in_hull.npy')\n",
    "pts_in_hull = pts_in_hull.transpose().reshape(2, 313, 1 ,1).astype(np.float32)\n",
    "net.getLayer(net.getLayerId('class8_ab')).blobs = [pts_in_hull]\n",
    "\n",
    "net.getLayer(net.getLayerId('conv8_313_rh')).blobs = [np.full((1, 313), 2.606, np.float32)]\n",
    "\n",
    "# 이미지 전처리하기\n",
    "img = cv2.imread('./semi-project/img/1900s NewYork.jpg', cv2.IMREAD_GRAYSCALE)\n",
    "img_input = img.copy()\n",
    "# h, w, c = img.shape\n",
    "\n",
    "# convert grayscale TO RGB\n",
    "img = cv2.cvtColor(img, cv2.COLOR_GRAY2RGB)\n",
    "\n",
    "img_rgb = img.copy()\n",
    "\n",
    "# normlize input\n",
    "img_rgb = img_rgb.astype('float32') / 255\n",
    "\n",
    "# convert RGB to LAB\n",
    "img_lab = cv2.cvtColor(img_rgb, cv2.COLOR_RGB2Lab)\n",
    "\n",
    "# only L channel to be used\n",
    "img_l = img_lab[:, :, 0]\n",
    "\n",
    "#ab의 형태로 이미지를 처리하기\n",
    "input_img = cv2.resize(img_l, (224, 224))\n",
    "input_img -= 50 # subtract 50 for mean-centering\n",
    "\n",
    "#여기까지가 컴퓨터가 이해할 수 있는 언어로 출력된다."
   ]
  },
  {
   "cell_type": "markdown",
   "id": "bc4d7658",
   "metadata": {},
   "source": [
    "## 이미지 후처리 하기"
   ]
  },
  {
   "cell_type": "code",
   "execution_count": null,
   "id": "7310e556",
   "metadata": {},
   "outputs": [
    {
     "ename": "",
     "evalue": "",
     "output_type": "error",
     "traceback": [
      "\u001b[1;31m'Python 3.10.5 64-bit'(으)로 셀을 실행하려면 ipykernel 패키지가 필요합니다.\n",
      "다음 명령어를 실행하여 Python 환경에 'ipykernel'을(를) 설치합니다. \r\n",
      " 명령: 'c:/Users/always/AppData/Local/Programs/Python/Python310/python.exe -m pip install ipykernel -U --user --force-reinstall'"
     ]
    }
   ],
   "source": [
    "# 우리가 알아볼 수 있도록 후처리 해주기\n",
    "\n",
    "net.setInput(cv2.dnn.blobFromImage(input_img))\n",
    "pred = net.forward()[0, :, :, :].transpose((1, 2, 0))\n",
    "\n",
    "# resize to original image shape (원본 크기로 되돌리기)\n",
    "pred_resize = cv2.resize(pred, (img.shape[1], img.shape[0]))\n",
    "\n",
    "# concatenate with original image L\n",
    "pred_lab = np.concatenate([img_l[:, :, np.newaxis], pred_resize], axis = 2)\n",
    "\n",
    "# convert LAB to RGB\n",
    "pred_rgb = cv2.cvtColor(pred_lab, cv2.COLOR_Lab2RGB)\n",
    "pred_rgb = pred_rgb * 255\n",
    "pred_rgb = np.clip(pred_rgb, 0, 255)\n",
    "pred_rgb = pred_rgb.astype('uint8')"
   ]
  },
  {
   "cell_type": "markdown",
   "id": "7e31a9af",
   "metadata": {},
   "source": [
    "### 이미지 출력하기"
   ]
  },
  {
   "cell_type": "code",
   "execution_count": null,
   "id": "9b21a16d",
   "metadata": {},
   "outputs": [
    {
     "ename": "",
     "evalue": "",
     "output_type": "error",
     "traceback": [
      "\u001b[1;31m'Python 3.10.5 64-bit'(으)로 셀을 실행하려면 ipykernel 패키지가 필요합니다.\n",
      "다음 명령어를 실행하여 Python 환경에 'ipykernel'을(를) 설치합니다. \r\n",
      " 명령: 'c:/Users/always/AppData/Local/Programs/Python/Python310/python.exe -m pip install ipykernel -U --user --force-reinstall'"
     ]
    }
   ],
   "source": [
    "cv2.imshow('img', img_input)\n",
    "cv2.imshow('result', pred_rgb)\n",
    "\n",
    "cv2.waitKey()\n",
    "cv2.destroyAllWindows()"
   ]
  },
  {
   "cell_type": "markdown",
   "id": "94a4faa3",
   "metadata": {},
   "source": [
    "## 사이즈 조정"
   ]
  },
  {
   "cell_type": "code",
   "execution_count": null,
   "id": "6cc59760",
   "metadata": {},
   "outputs": [
    {
     "ename": "",
     "evalue": "",
     "output_type": "error",
     "traceback": [
      "\u001b[1;31m'Python 3.10.5 64-bit'(으)로 셀을 실행하려면 ipykernel 패키지가 필요합니다.\n",
      "다음 명령어를 실행하여 Python 환경에 'ipykernel'을(를) 설치합니다. \r\n",
      " 명령: 'c:/Users/always/AppData/Local/Programs/Python/Python310/python.exe -m pip install ipykernel -U --user --force-reinstall'"
     ]
    }
   ],
   "source": [
    "dst1 = cv2.resize(img_input, dsize=(800, 600), interpolation = cv2.INTER_AREA)\n",
    "dst2 = cv2.resize(pred_rgb, dsize=(800, 600), interpolation = cv2.INTER_AREA)\n",
    "\n",
    "cv2.imshow(\"dst1\", dst1)\n",
    "cv2.imshow(\"dst2\", dst2)\n",
    "\n",
    "cv2.waitKey()\n",
    "cv2.destroyAllWindows()"
   ]
  },
  {
   "cell_type": "markdown",
   "id": "93e12f24",
   "metadata": {},
   "source": [
    "### Convert Lab to BGR"
   ]
  },
  {
   "cell_type": "code",
   "execution_count": null,
   "id": "decef806",
   "metadata": {},
   "outputs": [
    {
     "ename": "",
     "evalue": "",
     "output_type": "error",
     "traceback": [
      "\u001b[1;31m'Python 3.10.5 64-bit'(으)로 셀을 실행하려면 ipykernel 패키지가 필요합니다.\n",
      "다음 명령어를 실행하여 Python 환경에 'ipykernel'을(를) 설치합니다. \r\n",
      " 명령: 'c:/Users/always/AppData/Local/Programs/Python/Python310/python.exe -m pip install ipykernel -U --user --force-reinstall'"
     ]
    }
   ],
   "source": [
    "# convert LAB to BGR\n",
    "pred_bgr = cv2.cvtColor(pred_lab, cv2.COLOR_Lab2BGR)\n",
    "pred_bgr = pred_bgr * 255\n",
    "pred_bgr = np.clip(pred_bgr, 0, 255)\n",
    "pred_bgr = pred_bgr.astype('uint8')\n",
    "\n",
    "# cv2.imshow('img', img_input)\n",
    "# cv2.imshow('result', pred_bgr)\n",
    "\n",
    "dst1 = cv2.resize(img_input, dsize=(800, 600), interpolation = cv2.INTER_AREA)\n",
    "dst2 = cv2.resize(pred_bgr, dsize=(800, 600), interpolation = cv2.INTER_AREA)\n",
    "\n",
    "cv2.imshow(\"dst1\", dst1)\n",
    "cv2.imshow(\"dst2\", dst2)\n",
    "\n",
    "cv2.waitKey()\n",
    "cv2.destroyAllWindows()"
   ]
  },
  {
   "cell_type": "markdown",
   "id": "9c013055",
   "metadata": {},
   "source": [
    "### RGB 채널과 BGR 채널 비교"
   ]
  },
  {
   "cell_type": "code",
   "execution_count": null,
   "id": "fa345e2d",
   "metadata": {},
   "outputs": [
    {
     "ename": "",
     "evalue": "",
     "output_type": "error",
     "traceback": [
      "\u001b[1;31m'Python 3.10.5 64-bit'(으)로 셀을 실행하려면 ipykernel 패키지가 필요합니다.\n",
      "다음 명령어를 실행하여 Python 환경에 'ipykernel'을(를) 설치합니다. \r\n",
      " 명령: 'c:/Users/always/AppData/Local/Programs/Python/Python310/python.exe -m pip install ipykernel -U --user --force-reinstall'"
     ]
    }
   ],
   "source": [
    "dst3 = cv2.resize(pred_rgb, dsize=(800, 600), interpolation = cv2.INTER_AREA)\n",
    "\n",
    "cv2.imshow(\"BGR\", dst2)\n",
    "cv2.imshow(\"RGB\", dst3)\n",
    "\n",
    "cv2.waitKey()\n",
    "cv2.destroyAllWindows()"
   ]
  },
  {
   "cell_type": "code",
   "execution_count": null,
   "id": "ef17c04e",
   "metadata": {},
   "outputs": [
    {
     "ename": "",
     "evalue": "",
     "output_type": "error",
     "traceback": [
      "\u001b[1;31m'Python 3.10.5 64-bit'(으)로 셀을 실행하려면 ipykernel 패키지가 필요합니다.\n",
      "다음 명령어를 실행하여 Python 환경에 'ipykernel'을(를) 설치합니다. \r\n",
      " 명령: 'c:/Users/always/AppData/Local/Programs/Python/Python310/python.exe -m pip install ipykernel -U --user --force-reinstall'"
     ]
    }
   ],
   "source": [
    "cv2.imshow('img', img_input)\n",
    "cv2.imshow('result', pred_bgr)\n",
    "\n",
    "while True:\n",
    "    key = cv2.waitKey()\n",
    "    if key == 27:\n",
    "        break\n",
    "        \n",
    "    elif key == ord('s'):\n",
    "        cv2.imwrite('result.png', pred_bgr)\n",
    "        \n",
    "cv2.destroyAllWindows()"
   ]
  },
  {
   "cell_type": "markdown",
   "id": "768308ad",
   "metadata": {},
   "source": [
    "## 복원 데이터 저장하기"
   ]
  },
  {
   "cell_type": "code",
   "execution_count": null,
   "id": "26444127",
   "metadata": {},
   "outputs": [
    {
     "ename": "",
     "evalue": "",
     "output_type": "error",
     "traceback": [
      "\u001b[1;31m'Python 3.10.5 64-bit'(으)로 셀을 실행하려면 ipykernel 패키지가 필요합니다.\n",
      "다음 명령어를 실행하여 Python 환경에 'ipykernel'을(를) 설치합니다. \r\n",
      " 명령: 'c:/Users/always/AppData/Local/Programs/Python/Python310/python.exe -m pip install ipykernel -U --user --force-reinstall'"
     ]
    }
   ],
   "source": [
    "proto = './semi-project/colorization_deploy_v2.prototxt'\n",
    "weights = './semi-project/colorization_release_v2.caffemodel'\n",
    "# weights = './semi-project/colorization_release_v2_norebal.caffemodel'\n",
    "\n",
    "#net 이라는 변수에 딥러닝 프레임 워크를 선언한다.\n",
    "net = cv2.dnn.readNetFromCaffe(proto, weights)\n",
    "\n",
    "# 클러스터 센터를 로드\n",
    "pts_in_hull = np.load('./semi-project/pts_in_hull.npy')\n",
    "pts_in_hull = pts_in_hull.transpose().reshape(2, 313, 1 ,1).astype(np.float32)\n",
    "net.getLayer(net.getLayerId('class8_ab')).blobs = [pts_in_hull]\n",
    "\n",
    "net.getLayer(net.getLayerId('conv8_313_rh')).blobs = [np.full((1, 313), 2.606, np.float32)]\n",
    "\n",
    "# 이미지 전처리하기\n",
    "img = cv2.imread('./semi-project/img/Person_Kimgoo.jpg', cv2.IMREAD_GRAYSCALE)\n",
    "img_input = img.copy()\n",
    "\n",
    "# convert BGR TO RGB\n",
    "img = cv2.cvtColor(img, cv2.COLOR_GRAY2RGB)\n",
    "\n",
    "img_rgb = img.copy()\n",
    "\n",
    "# normlize input\n",
    "img_rgb = img_rgb.astype('float32') / 255\n",
    "\n",
    "# convert RGB to LAB\n",
    "img_lab = cv2.cvtColor(img_rgb, cv2.COLOR_RGB2Lab)\n",
    "\n",
    "# only L channel to be used\n",
    "img_l = img_lab[:, :, 0]\n",
    "\n",
    "#ab의 형태로 이미지를 처리하기\n",
    "input_img = cv2.resize(img_l, (224, 224))\n",
    "input_img -= 50 # subtract 50 for mean-centering\n",
    "\n",
    "#여기까지가 컴퓨터가 이해할 수 있는 언어로 출력된다.\n",
    "\n",
    "# 우리가 알아볼 수 있도록 후처리 해주기\n",
    "\n",
    "net.setInput(cv2.dnn.blobFromImage(input_img))\n",
    "pred = net.forward()[0, :, :, :].transpose((1, 2, 0))\n",
    "\n",
    "# resize to original image shape (원본 크기로 되돌리기)\n",
    "pred_resize = cv2.resize(pred, (img.shape[1], img.shape[0]))\n",
    "# pred_resize = cv2.resize(pred, (w, h))\n",
    "\n",
    "\n",
    "# concatenate with original image L\n",
    "# pred_lab = np.concatenate([img_l, pred_resize], axis = 2)\n",
    "pred_lab = np.concatenate([img_l[:, :, np.newaxis], pred_resize], axis = 2)\n",
    "\n",
    "# convert LAB to BGR\n",
    "pred_bgr = cv2.cvtColor(pred_lab, cv2.COLOR_Lab2BGR)\n",
    "pred_bgr = pred_bgr * 255\n",
    "pred_bgr = np.clip(pred_bgr, 0, 255)\n",
    "pred_bgr = pred_bgr.astype('uint8')\n",
    "\n",
    "cv2.imshow('img', img_input)\n",
    "cv2.imshow('result', pred_bgr)\n",
    "\n",
    "while True:\n",
    "    key = cv2.waitKey()\n",
    "    if key == 27:\n",
    "        break\n",
    "        \n",
    "    elif key == ord('s'):\n",
    "        cv2.imwrite('image111.png', pred_bgr)\n",
    "        \n",
    "cv2.destroyAllWindows()\n",
    "\n",
    "# dst1 = cv2.resize(img_input, dsize=(800, 600), interpolation = cv2.INTER_AREA)\n",
    "# dst2 = cv2.resize(pred_bgr, dsize=(800, 600), interpolation = cv2.INTER_AREA)\n",
    "\n",
    "# cv2.imshow(\"dst1\", dst1)\n",
    "# cv2.imshow(\"dst2\", dst2)\n",
    "\n",
    "# cv2.waitKey()\n",
    "# cv2.destroyAllWindows()"
   ]
  },
  {
   "cell_type": "markdown",
   "id": "8b9d3238",
   "metadata": {},
   "source": [
    "# 전체 코드"
   ]
  },
  {
   "cell_type": "code",
   "execution_count": null,
   "id": "4a17d593",
   "metadata": {},
   "outputs": [
    {
     "ename": "",
     "evalue": "",
     "output_type": "error",
     "traceback": [
      "\u001b[1;31m'Python 3.10.5 64-bit'(으)로 셀을 실행하려면 ipykernel 패키지가 필요합니다.\n",
      "다음 명령어를 실행하여 Python 환경에 'ipykernel'을(를) 설치합니다. \r\n",
      " 명령: 'c:/Users/always/AppData/Local/Programs/Python/Python310/python.exe -m pip install ipykernel -U --user --force-reinstall'"
     ]
    }
   ],
   "source": [
    "import cv2\n",
    "import numpy as np\n",
    "\n",
    "proto = './semi-project/colorization_deploy_v2.prototxt'\n",
    "weights = './semi-project/colorization_release_v2.caffemodel'\n",
    "# weights = './semi-project/colorization_release_v2_norebal.caffemodel'\n",
    "\n",
    "#net 이라는 변수에 딥러닝 프레임 워크를 선언한다.\n",
    "net = cv2.dnn.readNetFromCaffe(proto, weights)\n",
    "\n",
    "# 클러스터 센터를 로드\n",
    "pts_in_hull = np.load('./semi-project/pts_in_hull.npy')\n",
    "pts_in_hull = pts_in_hull.transpose().reshape(2, 313, 1 ,1).astype(np.float32)\n",
    "net.getLayer(net.getLayerId('class8_ab')).blobs = [pts_in_hull]\n",
    "\n",
    "net.getLayer(net.getLayerId('conv8_313_rh')).blobs = [np.full((1, 313), 2.606, np.float32)]\n",
    "\n",
    "# 이미지 전처리하기\n",
    "img = cv2.imread('./semi-project/img/Person_Audrey Hepburn.jpg', cv2.IMREAD_GRAYSCALE)\n",
    "img_input = img.copy()\n",
    "# h, w, c = img.shape\n",
    "\n",
    "# convert BGR TO RGB\n",
    "img = cv2.cvtColor(img, cv2.COLOR_GRAY2RGB)\n",
    "\n",
    "img_rgb = img.copy()\n",
    "\n",
    "# normlize input\n",
    "img_rgb = img_rgb.astype('float32') / 255\n",
    "\n",
    "# convert RGB to LAB\n",
    "img_lab = cv2.cvtColor(img_rgb, cv2.COLOR_RGB2Lab)\n",
    "\n",
    "# only L channel to be used\n",
    "img_l = img_lab[:, :, 0]\n",
    "\n",
    "#ab의 형태로 이미지를 처리하기\n",
    "input_img = cv2.resize(img_l, (224, 224))\n",
    "input_img -= 50 # subtract 50 for mean-centering\n",
    "\n",
    "#여기까지가 컴퓨터가 이해할 수 있는 언어로 출력된다.\n",
    "\n",
    "# 우리가 알아볼 수 있도록 후처리 해주기\n",
    "\n",
    "net.setInput(cv2.dnn.blobFromImage(input_img))\n",
    "pred = net.forward()[0, :, :, :].transpose((1, 2, 0))\n",
    "\n",
    "# resize to original image shape (원본 크기로 되돌리기)\n",
    "pred_resize = cv2.resize(pred, (img.shape[1], img.shape[0]))\n",
    "# pred_resize = cv2.resize(pred, (w, h))\n",
    "\n",
    "\n",
    "# concatenate with original image L\n",
    "# pred_lab = np.concatenate([img_l, pred_resize], axis = 2)\n",
    "pred_lab = np.concatenate([img_l[:, :, np.newaxis], pred_resize], axis = 2)\n",
    "\n",
    "# convert LAB to BGR\n",
    "pred_bgr = cv2.cvtColor(pred_lab, cv2.COLOR_Lab2BGR)\n",
    "pred_bgr = pred_bgr * 255\n",
    "pred_bgr = np.clip(pred_bgr, 0, 255)\n",
    "pred_bgr = pred_bgr.astype('uint8')\n",
    "\n",
    "dst1 = cv2.resize(img_input, dsize=(600, 800), interpolation = cv2.INTER_AREA)\n",
    "dst2 = cv2.resize(pred_bgr, dsize=(600, 800), interpolation = cv2.INTER_AREA)\n",
    "\n",
    "cv2.imshow(\"dst1\", dst1)\n",
    "cv2.imshow(\"dst2\", dst2)\n",
    "\n",
    "cv2.waitKey()\n",
    "cv2.destroyAllWindows()"
   ]
  },
  {
   "cell_type": "markdown",
   "id": "54b8b928",
   "metadata": {},
   "source": [
    "### 고민 \n",
    "1. 해상도를 복원하여 컬러화 하면 더 잘 나오지 않을까 (EDSR)\n",
    "2. GAN을 이용해서 B&W 사진을 딥러닝하면 얼마나 개선된 이미지가 나올까 (GAN)"
   ]
  },
  {
   "cell_type": "markdown",
   "id": "aa8d3a90",
   "metadata": {},
   "source": [
    "# 오래된 이미지 해상도 향상하고 색 복원하기\n",
    "    - Anaconda prompt(관리자 설정에서) pip install opencv-contrib-python\n",
    "    - EDSR 이라는 모델을 사용하기 위함 (이미지 해상도를 3~4배 가까이 향상)\n",
    "\n",
    "만약에 안되면\n",
    "\n",
    "    - pip unistall opencv-python  \n",
    "    - pip uinstall opencv-contrib-python\n",
    "    - pip install opencv-contrib-python\n",
    "    - pip install opencv-contrib-python upgrade\n",
    "    \n",
    "### 결론적으로\n",
    "#### result_img = sr . upsample(img) 부분에서 해결되지 않는것 같음"
   ]
  },
  {
   "cell_type": "markdown",
   "id": "32623bd6",
   "metadata": {},
   "source": [
    "## EDSR(Enhanced deep super-resoution network)\n",
    "    -Residual Neural Network(RL) : 잔차 신경망, 즉 레즈넷은 스킵 연결을 통해 잔차를 학습하도록 만들어진 인공신경망 "
   ]
  },
  {
   "cell_type": "code",
   "execution_count": null,
   "id": "694cae4f",
   "metadata": {},
   "outputs": [
    {
     "ename": "",
     "evalue": "",
     "output_type": "error",
     "traceback": [
      "\u001b[1;31m'Python 3.10.5 64-bit'(으)로 셀을 실행하려면 ipykernel 패키지가 필요합니다.\n",
      "다음 명령어를 실행하여 Python 환경에 'ipykernel'을(를) 설치합니다. \r\n",
      " 명령: 'c:/Users/always/AppData/Local/Programs/Python/Python310/python.exe -m pip install ipykernel -U --user --force-reinstall'"
     ]
    }
   ],
   "source": [
    "import cv2\n",
    "cv2.__version__"
   ]
  },
  {
   "cell_type": "code",
   "execution_count": null,
   "id": "0532e851",
   "metadata": {},
   "outputs": [
    {
     "ename": "",
     "evalue": "",
     "output_type": "error",
     "traceback": [
      "\u001b[1;31m'Python 3.10.5 64-bit'(으)로 셀을 실행하려면 ipykernel 패키지가 필요합니다.\n",
      "다음 명령어를 실행하여 Python 환경에 'ipykernel'을(를) 설치합니다. \r\n",
      " 명령: 'c:/Users/always/AppData/Local/Programs/Python/Python310/python.exe -m pip install ipykernel -U --user --force-reinstall'"
     ]
    }
   ],
   "source": [
    "# 패키지 로드하기\n",
    "import cv2\n",
    "import numpy as np\n",
    "\n",
    "# 모델 로드하기\n",
    "proto = './semi-project/colorization_deploy_v2.prototxt'\n",
    "weights = './semi-project/colorization_release_v2.caffemodel'\n",
    "\n",
    "# net 이라는 변수에 딥러닝 프레임 워크를 선언한다.\n",
    "net = cv2.dnn.readNetFromCaffe(proto, weights)\n",
    "\n",
    "sr = cv2.dnn_superres.DnnSuperResImpl_create()\n",
    "sr.readModel('./semi-project/EDSR_x4.pb')\n",
    "sr.setModel('edsr', 1)\n",
    "\n",
    "pts_in_hull = np.load('./semi-project/pts_in_hull.npy')\n",
    "pts_in_hull = pts_in_hull.transpose().reshape(2, 313, 1, 1).astype(np.float32)\n",
    "net.getLayer(net.getLayerId('class8_ab')).blobs = [pts_in_hull]\n",
    "\n",
    "net.getLayer(net.getLayerId('conv8_313_rh')).blobs = [np.full((1, 313), 2.606, np.float32)]\n",
    "\n",
    "img = cv2.imread('./semi-project/img/1900s NewYork.jpg')\n",
    "\n",
    "#이미지 추론하기 (해당 함수는 전처리와 후처리를 한꺼번에 해준다.)\n",
    "result_img = sr.upsample(img)\n",
    "\n",
    "h, w, c = result_img.shape\n",
    "\n",
    "img_input = result_img.copy()\n",
    "\n",
    "img_input = img_input.astype('float32') / 255.\n",
    "\n",
    "# 이미지 형태 변경\n",
    "img_lab = cv2.cvtColor(img_input, cv2.COLOR_BGR2Lab)\n",
    "\n",
    "#1 채널만 걸러내기, ab의 형태로 이미지를 처리하기\n",
    "img_1 = img_lab[:, :, 0:1]\n",
    "\n",
    "blob = cv2.dnn.blobFromImage(img_1, size = (224, 224), mean = [50, 50, 50])\n",
    "\n",
    "net.setInput(blob)\n",
    "output = net.forward()\n",
    "# 여기까지가 컴퓨터가 이해할 수 있는 언어로 출력된다.\n",
    "\n",
    "# 우리가 알아볼 수 있도록 후처리 해주기\n",
    "output = output.squeeze().transpose((1, 2, 0))\n",
    "\n",
    "output_resized = cv2.resize(output, (w, h))\n",
    "\n",
    "# 1과 ab를 합쳐서 1ab 시스템의 이미지로 만들어주기\n",
    "output_lab = np.concatenate([img_1, output_resized], axis = 2)\n",
    "\n",
    "output_bgr = cv2.cvtColor(output_lab, cv2.COLOR_Lab2BGR)\n",
    "output_bgr = output_bgr * 255\n",
    "output_bgr = np.clip(output_bgr, 0, 255)\n",
    "output_bgr = output_bgr.astype('uint8')\n",
    "\n",
    "# 이미지 출력하기\n",
    "dst1 = cv2.resize(img, dsize=(800, 600), interpolation = cv2.INTER_AREA)\n",
    "dst2 = cv2.resize(output_bgr, dsize=(800, 600), interpolation = cv2.INTER_AREA)\n",
    "\n",
    "cv2.imshow(\"dst1\", dst1)\n",
    "cv2.imshow(\"dst2\", dst2)\n",
    "\n",
    "cv2.waitKey()\n",
    "cv2.destroyAllWindows()"
   ]
  }
 ],
 "metadata": {
  "kernelspec": {
   "display_name": "Python 3.10.5 64-bit",
   "language": "python",
   "name": "python3"
  },
  "language_info": {
   "codemirror_mode": {
    "name": "ipython",
    "version": 3
   },
   "file_extension": ".py",
   "mimetype": "text/x-python",
   "name": "python",
   "nbconvert_exporter": "python",
   "pygments_lexer": "ipython3",
   "version": "3.10.5"
  },
  "vscode": {
   "interpreter": {
    "hash": "82b9b38e08447859f932373e8c08a1eedf379d790232dc8c402fb1b9e9850ea4"
   }
  }
 },
 "nbformat": 4,
 "nbformat_minor": 5
}
